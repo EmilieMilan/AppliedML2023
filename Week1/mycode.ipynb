{
 "cells": [
  {
   "cell_type": "code",
   "execution_count": 1,
   "metadata": {},
   "outputs": [],
   "source": [
    "import numpy as np\n",
    "import pandas as pd\n",
    "import matplotlib.pyplot as plt"
   ]
  },
  {
   "cell_type": "code",
   "execution_count": 8,
   "metadata": {},
   "outputs": [],
   "source": [
    "# \\s+ seperates all kinds of spaces\n",
    "\n",
    "data_5000 = pd.read_csv(r'/Users/emilieelisabethmilannielsen/Documents/Uni/4.år/applied machine learning/AppliedML2023/Week1/AlephBtag_MC_train_Nev5000.csv', sep='\\s+')\n",
    "\n",
    "data_5000 = data_5000.drop(['energy', 'phi', 'cTheta', 'nnbjet'], axis = 1)\n",
    "\n",
    "X_data_5000 = data_5000.drop('isb', axis = 1)\n",
    "y_data_5000 = data_5000['isb']\n",
    "X_train_5000 = X_data_5000[:round(len(data_5000)*0.8)]\n",
    "y_train_5000 = y_data_5000[:round(len(data_5000)*0.8)]\n",
    "X_test_5000 = X_data_5000[round(len(data_5000)*0.8):]\n",
    "y_test_5000 = y_data_5000[round(len(data_5000)*0.8):]\n",
    "\n",
    "\n",
    "data_50000 = pd.read_csv(r'/Users/emilieelisabethmilannielsen/Documents/Uni/4.år/applied machine learning/AppliedML2023/Week1/AlephBtag_MC_train_Nev50000.csv', sep='\\s+')\n",
    "\n",
    "data_50000 = data_50000.drop(['energy', 'phi', 'cTheta', 'nnbjet'], axis = 1)\n",
    "\n",
    "X_data_50000 = data_50000.drop('isb', axis = 1)\n",
    "y_data_50000 = data_50000['isb']\n",
    "X_train_50000 = X_data_50000[:round(len(data_50000)*0.8)]\n",
    "y_train_50000 = y_data_50000[:round(len(data_50000)*0.8)]\n",
    "X_test_50000 = X_data_50000[round(len(data_50000)*0.8):]\n",
    "y_test_50000 = y_data_50000[round(len(data_50000)*0.8):]\n",
    "\n",
    "\n"
   ]
  },
  {
   "cell_type": "code",
   "execution_count": null,
   "metadata": {},
   "outputs": [],
   "source": []
  }
 ],
 "metadata": {
  "kernelspec": {
   "display_name": "appmachine",
   "language": "python",
   "name": "python3"
  },
  "language_info": {
   "codemirror_mode": {
    "name": "ipython",
    "version": 3
   },
   "file_extension": ".py",
   "mimetype": "text/x-python",
   "name": "python",
   "nbconvert_exporter": "python",
   "pygments_lexer": "ipython3",
   "version": "3.10.11"
  },
  "orig_nbformat": 4
 },
 "nbformat": 4,
 "nbformat_minor": 2
}
